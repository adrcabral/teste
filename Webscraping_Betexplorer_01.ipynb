{
  "nbformat": 4,
  "nbformat_minor": 0,
  "metadata": {
    "colab": {
      "provenance": [],
      "collapsed_sections": [
        "-48RBH5yTXaP",
        "IZPOVBb-TfXE",
        "nZs5M5xnTneV",
        "lzFc3XT5oL93",
        "OFamis1KoRFc"
      ],
      "private_outputs": true,
      "include_colab_link": true
    },
    "kernelspec": {
      "name": "python3",
      "display_name": "Python 3"
    },
    "language_info": {
      "name": "python"
    },
    "gpuClass": "standard"
  },
  "cells": [
    {
      "cell_type": "markdown",
      "metadata": {
        "id": "view-in-github",
        "colab_type": "text"
      },
      "source": [
        "<a href=\"https://colab.research.google.com/github/adrcabral/teste/blob/main/Webscraping_Betexplorer_01.ipynb\" target=\"_parent\"><img src=\"https://colab.research.google.com/assets/colab-badge.svg\" alt=\"Open In Colab\"/></a>"
      ]
    },
    {
      "cell_type": "markdown",
      "source": [
        "Documentação do BeautifullSoup: https://www.crummy.com/software/BeautifulSoup/bs4/doc.ptbr/"
      ],
      "metadata": {
        "id": "lJIDXoCqogLc"
      }
    },
    {
      "cell_type": "markdown",
      "source": [
        "Site do BetExplorer: https://www.betexplorer.com/soccer"
      ],
      "metadata": {
        "id": "SJkO2i-yonNU"
      }
    },
    {
      "cell_type": "markdown",
      "source": [
        "# Instalando o BS4"
      ],
      "metadata": {
        "id": "-48RBH5yTXaP"
      }
    },
    {
      "cell_type": "code",
      "source": [
        "!pip install --upgrade beautifulsoup4"
      ],
      "metadata": {
        "id": "t7aEX1l3QKtv"
      },
      "execution_count": null,
      "outputs": []
    },
    {
      "cell_type": "markdown",
      "source": [
        "# Importando as Bibliotecas"
      ],
      "metadata": {
        "id": "IZPOVBb-TfXE"
      }
    },
    {
      "cell_type": "code",
      "execution_count": null,
      "metadata": {
        "id": "flNYHp6rMX1P"
      },
      "outputs": [],
      "source": [
        "import pandas as pd\n",
        "import requests\n",
        "from bs4 import BeautifulSoup\n",
        "import warnings\n",
        "warnings.filterwarnings('ignore')\n",
        "from google.colab import data_table\n",
        "data_table.enable_dataframe_formatter()"
      ]
    },
    {
      "cell_type": "markdown",
      "source": [
        "# Pegando Dados da Premier League 2021/2022"
      ],
      "metadata": {
        "id": "nZs5M5xnTneV"
      }
    },
    {
      "cell_type": "code",
      "source": [
        "# url = \"https://www.betexplorer.com/football/south-africa/premier-league/results/\"\n",
        "\n",
        "nation = \"south-africa\"\n",
        "league = \"premier-league\"\n",
        "season = \"2021-2022\"\n",
        "\n",
        "url = f\"https://www.betexplorer.com/soccer/{nation}/{league}-{season}/results/\"\n",
        "soup = BeautifulSoup(requests.get(url).content, \"html.parser\")"
      ],
      "metadata": {
        "id": "GCJzMn4wMZ4v"
      },
      "execution_count": null,
      "outputs": []
    },
    {
      "cell_type": "code",
      "source": [
        "# Webscraping do site BetExplorer\n",
        "\n",
        "def get_odd_or_text(td):\n",
        "    if \"data-odd\" in td.attrs:\n",
        "        return td[\"data-odd\"]\n",
        "\n",
        "    odd = td.select_one(\"[data-odd]\")\n",
        "    if odd:\n",
        "        return odd[\"data-odd\"]\n",
        "\n",
        "    return td.get_text(strip=True)\n",
        "\n",
        "all_data = []\n",
        "for row in soup.select(\".table-main tr:has(td)\"):\n",
        "    tds = [get_odd_or_text(td) for td in row.select(\"td\")]\n",
        "    round_ = row.find_previous(\"th\").find_previous(\"tr\").th.text\n",
        "    all_data.append([round_, *tds])"
      ],
      "metadata": {
        "id": "ZcjhH1VlMcE6"
      },
      "execution_count": null,
      "outputs": []
    },
    {
      "cell_type": "code",
      "source": [
        "all_data"
      ],
      "metadata": {
        "id": "4PKqadTftvgF"
      },
      "execution_count": null,
      "outputs": []
    },
    {
      "cell_type": "markdown",
      "source": [
        "# Organizando e Salvando o DataFrame"
      ],
      "metadata": {
        "id": "lzFc3XT5oL93"
      }
    },
    {
      "cell_type": "code",
      "source": [
        "df = pd.DataFrame(all_data, columns=[\"Rodada\", \"Partida\", \"Placar\", \"Odd_H\", \"Odd_D\", \"Odd_A\", \"Date\"])\n",
        "df['League'] = league"
      ],
      "metadata": {
        "id": "n1lL0gE8Mf3V"
      },
      "execution_count": null,
      "outputs": []
    },
    {
      "cell_type": "code",
      "source": [
        "df.info()"
      ],
      "metadata": {
        "id": "3YDuASgCWijs"
      },
      "execution_count": null,
      "outputs": []
    },
    {
      "cell_type": "code",
      "source": [
        "df"
      ],
      "metadata": {
        "id": "heufye8NuNRK"
      },
      "execution_count": null,
      "outputs": []
    },
    {
      "cell_type": "code",
      "source": [
        "df['Home'] = [i.split('-')[0] for i in df['Partida']]\n",
        "df['Away'] = [i.split('-')[1] for i in df['Partida']]\n",
        "df"
      ],
      "metadata": {
        "id": "etN7oZjLMicB"
      },
      "execution_count": null,
      "outputs": []
    },
    {
      "cell_type": "code",
      "source": [
        "df = df.iloc[::-1]\n",
        "df"
      ],
      "metadata": {
        "id": "08w1ZhkFMkr9"
      },
      "execution_count": null,
      "outputs": []
    },
    {
      "cell_type": "code",
      "source": [
        "df['Goals_H'] = [i.split(':', 1)[0] if len(i.split(':')) >= 2 else None for i in df['Placar']]\n",
        "df['Goals_A'] = [i.split(':', 1)[1] if len(i.split(':')) >= 2 else None for i in df['Placar']]\n"
      ],
      "metadata": {
        "id": "YUKjgHLq5MBd"
      },
      "execution_count": null,
      "outputs": []
    },
    {
      "cell_type": "code",
      "source": [
        "def Result(row):\n",
        "    if row['Goals_H'] is not None and row['Goals_A'] is not None:\n",
        "        if row['Goals_H'] > row['Goals_A']:\n",
        "            return \"H\"\n",
        "        elif row['Goals_H'] < row['Goals_A']:\n",
        "            return \"A\"\n",
        "        else:\n",
        "            return \"D\"\n",
        "    else:\n",
        "        return None\n",
        "\n",
        "df['Result'] = df.apply(Result, axis=1)"
      ],
      "metadata": {
        "id": "C99rTN49MtsM"
      },
      "execution_count": null,
      "outputs": []
    },
    {
      "cell_type": "code",
      "source": [
        "# df.replace(\"1. Round\", 1, inplace=True)\n",
        "\n",
        "for i in range(38):\n",
        "  i = i + 1\n",
        "  df.replace(str(i)+\". Round\", i, inplace=True)\n",
        "\n",
        "df.reset_index(inplace=True, drop=True)\n",
        "df.index = df.index.set_names(['Nº'])\n",
        "df = df.rename(index=lambda x: x + 1)\n",
        "df"
      ],
      "metadata": {
        "id": "armQmuHSNOS9"
      },
      "execution_count": null,
      "outputs": []
    },
    {
      "cell_type": "code",
      "source": [
        "df.drop(['Partida','Placar'],axis=1,inplace=True)\n",
        "df"
      ],
      "metadata": {
        "id": "O8V8Nn9dhzDf"
      },
      "execution_count": null,
      "outputs": []
    },
    {
      "cell_type": "code",
      "source": [
        "df = df[['League','Date','Rodada','Home','Away','Odd_H','Odd_D','Odd_A','Goals_H','Goals_A','Result']]\n",
        "df"
      ],
      "metadata": {
        "id": "PoHZSnFeh7db"
      },
      "execution_count": null,
      "outputs": []
    },
    {
      "cell_type": "markdown",
      "source": [
        "# Gerando para Todas as Temporadas"
      ],
      "metadata": {
        "id": "OFamis1KoRFc"
      }
    },
    {
      "cell_type": "code",
      "source": [
        "nation = \"south-africa\"\n",
        "league = \"premier-league\"\n",
        "\n",
        "for year in range(2021, 2024):\n",
        "    url = f\"https://www.betexplorer.com/soccer/{nation}/{league}-{year}-{year+1}/results/\"\n",
        "    soup = BeautifulSoup(requests.get(url).content, \"html.parser\")\n",
        "\n",
        "    # Webscraping do site BetExplorer\n",
        "\n",
        "    def get_odd_or_text(td):\n",
        "        if \"data-odd\" in td.attrs:\n",
        "            return td[\"data-odd\"]\n",
        "\n",
        "        odd = td.select_one(\"[data-odd]\")\n",
        "        if odd:\n",
        "            return odd[\"data-odd\"]\n",
        "\n",
        "        return td.get_text(strip=True)\n",
        "\n",
        "    all_data = []\n",
        "    for row in soup.select(\".table-main tr:has(td)\"):\n",
        "        tds = [get_odd_or_text(td) for td in row.select(\"td\")]\n",
        "        round_ = row.find_previous(\"th\").find_previous(\"tr\").th.text\n",
        "        all_data.append([round_, *tds])\n",
        "\n",
        "    df = pd.DataFrame(all_data, columns=[\"Rodada\", \"Partida\", \"Placar\", \"Odd_H\", \"Odd_D\", \"Odd_A\", \"Date\"])\n",
        "    df['League'] = league\n",
        "\n",
        "    df['Home'] = [i.split('-')[0] for i in df['Partida']]\n",
        "    df['Away'] = [i.split('-')[1] for i in df['Partida']]\n",
        "\n",
        "    df = df.iloc[::-1]\n",
        "\n",
        "    df['Goals_H'] = [i.split(':', 1)[0] if len(i.split(':')) >= 2 else None for i in df['Placar']]\n",
        "    df['Goals_A'] = [i.split(':', 1)[1] if len(i.split(':')) >= 2 else None for i in df['Placar']]\n",
        "\n",
        "    def Result(row):\n",
        "        if row['Goals_H'] is not None and row['Goals_A'] is not None:\n",
        "            if row['Goals_H'] > row['Goals_A']:\n",
        "                return \"H\"\n",
        "            elif row['Goals_H'] < row['Goals_A']:\n",
        "                return \"A\"\n",
        "            else:\n",
        "                return \"D\"\n",
        "        else:\n",
        "            return None\n",
        "\n",
        "    df['Result'] = df.apply(Result, axis=1)\n",
        "\n",
        "    for i in range(38):\n",
        "        i = i + 1\n",
        "        df.replace(str(i)+\". Round\", i, inplace=True)\n",
        "\n",
        "    df.reset_index(inplace=True, drop=True)\n",
        "    df.index = df.index.set_names(['Nº'])\n",
        "    df = df.rename(index=lambda x: x + 1)\n",
        "\n",
        "    df.drop(['Partida', 'Placar'], axis=1, inplace=True)\n",
        "\n",
        "    df = df[['League', 'Date', 'Rodada', 'Home', 'Away', 'Odd_H', 'Odd_D', 'Odd_A', 'Goals_H', 'Goals_A', 'Result']]\n",
        "\n",
        "    df.to_excel(league+\"_\"+str(year)+\"-\"+str(year+1)+\".xlsx\")\n"
      ],
      "metadata": {
        "id": "uW3wTm2Ai5kw"
      },
      "execution_count": null,
      "outputs": []
    }
  ]
}